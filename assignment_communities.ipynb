{
 "cells": [
  {
   "cell_type": "markdown",
   "metadata": {},
   "source": [
    "### Zadanie 1\n",
    "\n",
    "Po wybraniu zbioru danych przetestować różne algorytmy do wykrywania communities.\n",
    "W sprawozdaniu:\n",
    "- opisać zbiór danych (liczba wierzchołków, liczba krawędzi, co reprezentuje, metryki dostepne w networkX),\n",
    "- którko opisać wybrane algorytmy do wykrywania communities,\n",
    "- załączyć wyniki: wizualizacje communities, dodatkowo liczbę znalezionych communities i ich liczność.\n",
    "- odpowiedzieć na pytania: Czy resultaty się od siebie różnią? Co może być tego powodem?\n",
    "\n",
    "\n",
    "### Zadanie 2 *\n",
    "Losowane grafy (generowane przy użyciu generatorów) maja inne communities.\n",
    "Który generator dobrze oddaje rzeczywiste grafy?\n",
    "Załóż, że zbiór danych przedstawia graf 'rzeczywisty' i porównaj metryki tego grafu z grafami uzyskanymi w tutorialu w przykładach z generatorami."
   ]
  },
  {
   "cell_type": "code",
   "execution_count": null,
   "metadata": {},
   "outputs": [],
   "source": [
    "import networkx as nx\n",
    "import matplotlib.pyplot as plt"
   ]
  },
  {
   "cell_type": "code",
   "execution_count": null,
   "metadata": {},
   "outputs": [],
   "source": [
    "# Wczytywanie grafu z pliku\n",
    "\n",
    "G = nx.Graph()\n",
    "edges = nx.read_edgelist('[path_to_your_dataset]')\n",
    "G.add_edges_from(edges.edges())\n",
    "nx.draw(G)"
   ]
  },
  {
   "cell_type": "code",
   "execution_count": null,
   "metadata": {},
   "outputs": [],
   "source": [
    "from matplotlib.pyplot import figure\n",
    "import numpy\n",
    "\n",
    "\n",
    "# Do wykorzystania dla znalezionych communities\n",
    "\n",
    "def color_communities(communities, G):\n",
    "    figure(figsize=(15,15))\n",
    "    pos = nx.spring_layout(G)\n",
    "    for community in list(communities):\n",
    "        nx.draw_networkx_nodes(G, pos=pos,\n",
    "                               nodelist=community,\n",
    "                               node_color=numpy.random.rand(3,),\n",
    "                               alpha=0.7)\n",
    "    nx.draw_networkx_edges(G, pos=pos, edgelist=G.edges)\n",
    "\n",
    "    plt.show()"
   ]
  },
  {
   "cell_type": "code",
   "execution_count": null,
   "metadata": {},
   "outputs": [],
   "source": [
    "# Wykrywanie communities - algorytm 1 (np. girvan_newman)"
   ]
  },
  {
   "cell_type": "code",
   "execution_count": null,
   "metadata": {},
   "outputs": [],
   "source": [
    "# Wykrywanie communities - algorytm 2 (np. greedy_modularity_communities)"
   ]
  }
 ],
 "metadata": {
  "kernelspec": {
   "display_name": "Python 3",
   "language": "python",
   "name": "python3"
  },
  "language_info": {
   "codemirror_mode": {
    "name": "ipython",
    "version": 3
   },
   "file_extension": ".py",
   "mimetype": "text/x-python",
   "name": "python",
   "nbconvert_exporter": "python",
   "pygments_lexer": "ipython3",
   "version": "3.6.4"
  }
 },
 "nbformat": 4,
 "nbformat_minor": 2
}
