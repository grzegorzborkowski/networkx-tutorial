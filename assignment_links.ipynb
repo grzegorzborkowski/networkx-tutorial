{
 "cells": [
  {
   "cell_type": "markdown",
   "metadata": {},
   "source": [
    "### Zadanie 1\n",
    "\n",
    "Dla wybranego zbioru danych przetestować różne algorytmy do link prediction:\n",
    "- załadować graf,\n",
    "- usunąć randomowo kilka krawędzi z grafu G - można skorzystać z funkcji remove_n_random_edges(),\n",
    "  * usunąć linki w obrębie jednego community\n",
    "  * usunąć linki w obrębie różnych communities\n",
    "- użyć wybranych algorytmów do predykcji linków (np. jaccard_coefficient, resource_allocation_index)\n",
    "   i obliczyć prawdopodobieństwo wystąpienia w grafie usuniętych krawędzi,\n",
    "- porównać rezultaty.\n",
    "W sprawozdaniu należy umieścić wyniki oraz próbę wyjaśnienia rozbieżności \n",
    "pomiędzy wynikami pochodzącymi z różnych algorytmów."
   ]
  },
  {
   "cell_type": "code",
   "execution_count": null,
   "metadata": {},
   "outputs": [],
   "source": [
    "import networkx as nx\n",
    "import matplotlib.pyplot as plt"
   ]
  },
  {
   "cell_type": "code",
   "execution_count": null,
   "metadata": {},
   "outputs": [],
   "source": [
    "# Wczytywanie grafu z pliku\n",
    "\n",
    "G = nx.Graph()\n",
    "edges = nx.read_edgelist('[path_to_your_dataset]')\n",
    "G.add_edges_from(edges.edges())\n",
    "nx.draw(G)"
   ]
  },
  {
   "cell_type": "code",
   "execution_count": null,
   "metadata": {},
   "outputs": [],
   "source": [
    "import random\n",
    "\n",
    "# Zwraca listę usuniętych krawędzi, usuwa krawędzie z grafu G\n",
    "def remove_n_random_edges(n, G):\n",
    "    removed_edges = []\n",
    "    all_edges = list(G.edges)\n",
    "\n",
    "    for i in range (0,n):\n",
    "        to_remove = random.randint(0,len(G.edges)-1)\n",
    "        G.remove_edge(all_edges[to_remove][0],all_edges[to_remove][1])\n",
    "        removed_edges.append(all_edges[to_remove])\n",
    "    print(\"Removed edges: \", removed_edges)\n",
    "    print(\"Count of remaining edges: \", len(list(G.edges)))\n",
    "    return removed_edges \n",
    "    \n",
    "removed_edges = remove_n_random_edges(5, G)"
   ]
  },
  {
   "cell_type": "code",
   "execution_count": null,
   "metadata": {},
   "outputs": [],
   "source": [
    "# Predykcja algorytm 1 (np. jaccard_coefficient)"
   ]
  },
  {
   "cell_type": "code",
   "execution_count": null,
   "metadata": {},
   "outputs": [],
   "source": [
    "# Predykcja algorytm 2 (np. resource_allocation_index)"
   ]
  }
 ],
 "metadata": {
  "kernelspec": {
   "display_name": "Python 3",
   "language": "python",
   "name": "python3"
  },
  "language_info": {
   "codemirror_mode": {
    "name": "ipython",
    "version": 3
   },
   "file_extension": ".py",
   "mimetype": "text/x-python",
   "name": "python",
   "nbconvert_exporter": "python",
   "pygments_lexer": "ipython3",
   "version": "3.6.4"
  }
 },
 "nbformat": 4,
 "nbformat_minor": 2
}
