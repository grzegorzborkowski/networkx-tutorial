{
 "cells": [
  {
   "cell_type": "code",
   "execution_count": null,
   "metadata": {},
   "outputs": [],
   "source": [
    "import networkx as nx\n",
    "import matplotlib.pyplot as plt\n",
    "import pprint\n",
    "import collections\n",
    "import operator"
   ]
  },
  {
   "cell_type": "markdown",
   "metadata": {},
   "source": [
    "# Graf i tworzenie grafu\n",
    "\n",
    "Graf = zbiór wierzchołków i krawędzi (aka linków) pomiędzy parami wierzchołków.\n",
    "\n",
    "W NetworkX wierzchołkiem może być dowolny hashable obiekt, np. tekst, obrazek, obiekt XML, inny graf i wiele innych."
   ]
  },
  {
   "cell_type": "code",
   "execution_count": null,
   "metadata": {},
   "outputs": [],
   "source": [
    "G = nx.Graph() # domyślnie tworzymy graf nieskierowany\n",
    "G.add_node(1)\n",
    "G.add_nodes_from([2, 3])\n",
    "G.add_edge(1, 2)\n",
    "G.add_edge(3,5)\n",
    "G.add_edge(6,0)\n",
    "G.add_edge(1,5)\n",
    "G.add_edge(1,0)\n",
    "G.add_edge(2,5)\n",
    "G.add_edge(6,5)\n",
    "G.add_edges_from([(1, 2), (1, 3)])\n",
    "print('Lista wierzchołków: ',list(G.nodes))\n",
    "print('Lista krawędzi: ',list(G.edges))\n",
    "print('Sąsiedzi wierzchołka 1: ',list(G.adj[1]))\n",
    "print('Liczba wierzchołków o stopniu 1: ',G.degree[1])"
   ]
  },
  {
   "cell_type": "code",
   "execution_count": null,
   "metadata": {},
   "outputs": [],
   "source": [
    "# Rysowanie grafu\n",
    "nx.draw(G, with_labels=True, font_weight='bold')\n",
    "plt.show()"
   ]
  },
  {
   "cell_type": "markdown",
   "metadata": {},
   "source": [
    "# Layouts i opcje rysowania\n",
    "\n",
    "Layout w NetwokrkX oznacza sposób rozplanowania węzłów w wizualizacji grafu.\n",
    "Lista dostępnych layoutów: \n",
    "   https://networkx.github.io/documentation/stable/reference/drawing.html#module-networkx.drawing.layout\n",
    "\n",
    "### Przykłady:\n",
    "\n",
    "#### shell_layout \n",
    "Position nodes in concentric circles.\n",
    "Currently only works in two dimensions and does not try to minimize edge crossings.\n",
    "\n",
    "#### spring_layout \n",
    "Position nodes using Fruchterman-Reingold force-directed algorithm.\n",
    "Its purpose is to position the nodes of a graph in two-dimensional or three-dimensional space \n",
    "so that all the edges are of more or less equal length and there are as few crossing edges \n",
    "as possible, by assigning forces among the set of edges and the set of nodes, \n",
    "based on their relative positions, and then using these forces either to simulate the motion \n",
    "of the edges and nodes or to minimize their energy.\n",
    "\n",
    "#### kamada_kawai_layout \n",
    "Position nodes using Kamada-Kawai path-length cost-function.\n",
    "Imagine that the n vertices in an on-screen graph are\n",
    "connected by springs. The graph becomes a dynamical\n",
    "system that tries to reach a minimum-energy state, where\n",
    "springs are, as much as possible, not stretched or\n",
    "compressed overmuch from their “relaxed-state length”."
   ]
  },
  {
   "cell_type": "code",
   "execution_count": null,
   "metadata": {},
   "outputs": [],
   "source": [
    "# TODO: Narysuj graf G przy użyciu: \n",
    "# shell_layout, spring_layout, kamada_kawai_layout, random_layout\n",
    "# oraz dowolnego innego layoutu. Zaobserwuj różnice.\n",
    "# Jak można zmodyfikować strukturę grafu, żeby wyniki były ciekawsze?\n",
    "\n",
    "# Przykład: shell_layout\n",
    "\n",
    "print(\"shell_layout\")\n",
    "pos = nx.shell_layout(G)\n",
    "nx.draw(G, pos=pos, with_labels=True)\n",
    "plt.show()\n",
    "\n",
    "print(\"spring_layout\")\n",
    "# to implement\n",
    "\n",
    "print(\"kamada_kawai_layout\")\n",
    "# to implement\n",
    "\n",
    "print(\"random_layout\")\n",
    "# to implement"
   ]
  },
  {
   "cell_type": "code",
   "execution_count": null,
   "metadata": {},
   "outputs": [],
   "source": [
    "def get_histogram(G):\n",
    "    degree_sequence = sorted([d for n, d in G.degree()], reverse=True)  # degree sequence\n",
    "    degreeCount = collections.Counter(degree_sequence)\n",
    "    deg, cnt = zip(*degreeCount.items())\n",
    "\n",
    "    fig, ax = plt.subplots()\n",
    "    plt.bar(deg, cnt, width=0.80, color='b')\n",
    "\n",
    "    plt.title(\"Degree Histogram\")\n",
    "    plt.ylabel(\"Count\")\n",
    "    plt.xlabel(\"Degree\")\n",
    "    ax.set_xticks([d + 0.4 for d in deg])\n",
    "    ax.set_xticklabels(deg)\n",
    "\n",
    "    plt.show()"
   ]
  },
  {
   "cell_type": "markdown",
   "metadata": {},
   "source": [
    "# Generatory grafow\n",
    "Funkcje generujące grafy o określonej strukturze.\n",
    "\n",
    "https://networkx.github.io/documentation/latest/reference/generators.html\n",
    "\n",
    "### Przykłady:\n",
    "\n",
    "#### wheel_graph(n) \n",
    "Return the wheel graph which consists of a hub node connected to a cycle of (n-1) nodes.\n",
    "\n",
    "#### star_graph(n)\n",
    "Return the Star graph with n+1 nodes: one center node, connected to n outer nodes.\n",
    "\n",
    "#### binomial_graph(n,p) \n",
    "Returns a G(n,p) random graph, also known as an Erdős-Rényi graph or a binomial graph.\n",
    "The binomial distribution with parameters n and p is the discrete probability distribution of                         the number of successes in a sequence of n independent experiments, each asking a yes–no                               question, and each with its own boolean-valued outcome:\n",
    "The G(n,p) model chooses each of the possible edges with probability p."
   ]
  },
  {
   "cell_type": "code",
   "execution_count": null,
   "metadata": {},
   "outputs": [],
   "source": [
    "# Przykład: wheel graph\n",
    "\n",
    "print('Wheel graph')\n",
    "G_wheel = nx.networkx.generators.wheel_graph(10)\n",
    "nx.draw(G_wheel)\n",
    "plt.show()\n",
    "\n",
    "# Histogram naszego wheel graph\n",
    "get_histogram(G_wheel)\n",
    "\n",
    "# average node connectivity\n",
    "avg_node_connectivity = nx.networkx.average_node_connectivity(G_wheel)\n",
    "print('Average node connectivity: ', avg_node_connectivity)"
   ]
  },
  {
   "cell_type": "code",
   "execution_count": null,
   "metadata": {},
   "outputs": [],
   "source": [
    "# TODO: Stwórz star graph i narysuj go. Wyświetl jego histogram, oblicz 'average node connectivity'.\n",
    "\n",
    "print('Star graph')\n",
    "# to implement"
   ]
  },
  {
   "cell_type": "code",
   "execution_count": null,
   "metadata": {},
   "outputs": [],
   "source": [
    "# TODO: Stwórz binominal graph, w którym każda krawędź ma 50% szans wystąpienia.\n",
    "#       Narysuj go. Wyświetl jego histogram, oblicz 'average node connectivity'.\n",
    "#       Wygeneruj graf kilkukrotnie i zaobserwuj różnice.\n",
    "\n",
    "print('Binominal graph')\n",
    "# to implement"
   ]
  },
  {
   "cell_type": "code",
   "execution_count": null,
   "metadata": {
    "scrolled": false
   },
   "outputs": [],
   "source": [
    "# TODO:\n",
    "# Stwórz pełny graf o 10 wierzchołkach na dwa różne sposoby i wyświetl otrzymane grafy obok siebie, korzystając\n",
    "# z różnych circular layouts i random layouts.\n",
    "# \n",
    "# Pomocne linki:\n",
    "# https://networkx.github.io/documentation/latest/reference/generators.html\n",
    "# https://networkx.github.io/documentation/stable/reference/drawing.html#module-networkx.drawing.layout\n",
    "\n",
    "# full_graph = ...\n",
    "# full_graph_2 = ...\n",
    "\n",
    "class Exercise1():\n",
    "    \n",
    "    def __init__(self):\n",
    "        self.full_graph_1 = None\n",
    "        self.full_graph_2 = None\n",
    "        self.create_full_graph_one_way()\n",
    "        self.create_full_graph_another_way()\n",
    "    \n",
    "    def create_full_graph_one_way(self):\n",
    "        # self.full_graph_1 = ... implement here!\n",
    "        raise Exception(\"Not implemented\")\n",
    "        \n",
    "    def create_full_graph_another_way(self):\n",
    "        # self.full_graph_2 = ... implement here!\n",
    "        raise Exception(\"Not implemented\")\n",
    "        \n",
    "    def plot_both_graphs(self):\n",
    "        nx.draw(self.full_graph_1, pos=nx.circular_layout(self.full_graph_1))\n",
    "        plt.show()\n",
    "        nx.draw(self.full_graph_2, pos=nx.random_layout(self.full_graph_2))\n",
    "        plt.show()\n",
    "        \n",
    "    def validate(self):\n",
    "        result = nx.is_isomorphic(self.full_graph_1, self.full_graph_2)\n",
    "        if not result:\n",
    "            raise Exception(\"Graphs are not equal\")\n",
    "\n",
    "exercise1 = Exercise1()\n",
    "exercise1.plot_both_graphs()\n",
    "exercise1.validate()"
   ]
  },
  {
   "cell_type": "code",
   "execution_count": null,
   "metadata": {},
   "outputs": [],
   "source": [
    "# Wczytywanie grafu z pliku\n",
    "\n",
    "graph_from_file = nx.Graph()\n",
    "edges = nx.read_edgelist('edges.txt')\n",
    "nodes = nx.read_adjlist(\"nodes.txt\")\n",
    "graph_from_file.add_edges_from(edges.edges())\n",
    "graph_from_file.add_nodes_from(nodes)\n",
    "nx.draw(graph_from_file, with_labels=True)"
   ]
  },
  {
   "cell_type": "markdown",
   "metadata": {
    "collapsed": true
   },
   "source": [
    "# Community w grafie \n",
    "Zbiór węzłów, które są ze sobą gęsto połączone między sobą,\n",
    "będąc jednocześnie słabiej połączonymi z innymi węzłami.\n",
    "Dwa węzły mają większą szansę być ze sobą połączone jeśli są w obrębie jednego community."
   ]
  },
  {
   "cell_type": "markdown",
   "metadata": {},
   "source": [
    "### Generowanie grafu z communities znanymi a priori\n",
    "Używamy algorytmu o nazwie Lancichinetti–Fortunato–Radicchi benchmark, który pozwala na generowanie sieci\n",
    "z communities znanymi a priori. Algorytmu używa się do tego, aby generować grafy na których później testuje się \n",
    "inne metody wykrywania communieties (przez porównanie wyników ze zbiorem faktycznych communities)."
   ]
  },
  {
   "cell_type": "code",
   "execution_count": null,
   "metadata": {
    "scrolled": true
   },
   "outputs": [],
   "source": [
    "# Generujemy graf G w oparciu o Lancichinetti–Fortunato–Radicchi benchmark\n",
    "\n",
    "from networkx.algorithms.community import LFR_benchmark_graph\n",
    "from matplotlib.pyplot import figure\n",
    "import numpy\n",
    "\n",
    "G = LFR_benchmark_graph(n=200, tau1=3, tau2=1.5, mu=0.1, min_community=20, min_degree=3,\n",
    "                        seed=42)\n",
    "communities = {frozenset(G.nodes[v]['community']) for v in G}\n",
    "figure(figsize=(15,15))\n",
    "nx.draw(G, pos=nx.spring_layout(G), with_labels=True)"
   ]
  },
  {
   "cell_type": "code",
   "execution_count": null,
   "metadata": {},
   "outputs": [],
   "source": [
    "# Kolorujemy communities w grafie G\n",
    "\n",
    "figure(figsize=(15,15))\n",
    "pos = nx.spring_layout(G)\n",
    "for community in list(communities):\n",
    "    nx.draw_networkx_nodes(G, pos=pos,\n",
    "                           nodelist=community,\n",
    "                           node_color=numpy.random.rand(3,),\n",
    "                           alpha=1)\n",
    "nx.draw_networkx_edges(G, pos=pos, edgelist=G.edges)\n",
    "\n",
    "plt.show()"
   ]
  },
  {
   "cell_type": "code",
   "execution_count": null,
   "metadata": {},
   "outputs": [],
   "source": [
    "# Informacje o faktycznych communities grafu G\n",
    "\n",
    "print(\"Utworzone communities: \", len(communities), \"\\n\")\n",
    "communities_counter = 0\n",
    "for community in communities:\n",
    "    communities_counter += 1\n",
    "    print(\"Community \", communities_counter)\n",
    "    # print(list(community))\n",
    "    print(\"Liczność community: \", len(community), \"\\n\")"
   ]
  },
  {
   "cell_type": "markdown",
   "metadata": {},
   "source": [
    "## Wykrywanie communities\n",
    "Istnieje wiele algorytmów do wykrywania communities w grafach.\n",
    "\n",
    "https://networkx.github.io/documentation/stable/reference/algorithms/community.html\n",
    "\n",
    "### Przykłady:\n",
    "\n",
    "#### girvan_newman\n",
    "The Girvan–Newman algorithm detects communities by progressively removing edges from the original graph. The algorithm removes the “most valuable” edge, traditionally the edge with the highest betweenness centrality, at each step.\n",
    "\n",
    "#### greedy_modularity_communities\n",
    "Find communities in graph using Clauset-Newman-Moore greedy modularity maximization.\n",
    "Greedy modularity maximization begins with each node in its own community and joins the pair of communities that most increases modularity until no such pair exists."
   ]
  },
  {
   "cell_type": "code",
   "execution_count": null,
   "metadata": {},
   "outputs": [],
   "source": [
    "# Znajdowanie communities w oparciu o algorytm Girvan–Newmana \n",
    "\n",
    "from networkx.algorithms.community.centrality import girvan_newman\n",
    "communities_iter = girvan_newman(G)\n",
    "\n",
    "communities_sum = 0\n",
    "communities_gn = []\n",
    "\n",
    "for community_gn in next(communities_iter):\n",
    "    communities_sum += 1\n",
    "    communities_gn.append(community_gn)\n",
    "    print(\"Community \", communities_sum)\n",
    "    # print(community_gn)\n",
    "    print(\"Liczność community: \", len(community_gn), \"\\n\")\n",
    "    \n",
    "print(\"Znaleziono communities: \", communities_sum)"
   ]
  },
  {
   "cell_type": "code",
   "execution_count": null,
   "metadata": {},
   "outputs": [],
   "source": [
    "# Graf G pokolorowany według communities znalezionych w oparciu o algorytm Girvan–Newmana \n",
    "\n",
    "figure(figsize=(15,15))\n",
    "pos = nx.spring_layout(G)\n",
    "for community in list(communities_gn):\n",
    "    nx.draw_networkx_nodes(G, pos=pos,\n",
    "                           nodelist=community,\n",
    "                           node_color=numpy.random.rand(3,),\n",
    "                           alpha=1)\n",
    "nx.draw_networkx_edges(G, pos=pos, edgelist=G.edges)\n",
    "\n",
    "plt.show()"
   ]
  },
  {
   "cell_type": "code",
   "execution_count": null,
   "metadata": {},
   "outputs": [],
   "source": [
    "# Znajdowanie communities w oparciu o algorytm greedy_modularity_communities\n",
    "\n",
    "from networkx.algorithms.community.modularity_max import greedy_modularity_communities\n",
    "\n",
    "communities = greedy_modularity_communities(G)\n",
    "\n",
    "print(\"Znaleziono communities: \", len(communities))\n",
    "communities_counter = 1\n",
    "for community in communities:\n",
    "    print(\"Liczność community\", communities_counter, \":\", len(community), \"\\n\")\n",
    "    communities_counter += 1"
   ]
  },
  {
   "cell_type": "code",
   "execution_count": null,
   "metadata": {},
   "outputs": [],
   "source": [
    "# Graf G pokolorowany według communities znalezionych w oparciu o algorytm greedy_modularity_communities\n",
    "\n",
    "figure(figsize=(15,15))\n",
    "pos = nx.spring_layout(G)\n",
    "for community in list(communities):\n",
    "    nx.draw_networkx_nodes(G, pos=pos,\n",
    "                           nodelist=community,\n",
    "                           node_color=numpy.random.rand(3,),\n",
    "                           alpha=1,\n",
    "                           state=42)\n",
    "nx.draw_networkx_edges(G, pos=pos, edgelist=G.edges)\n",
    "\n",
    "plt.show()"
   ]
  },
  {
   "cell_type": "markdown",
   "metadata": {},
   "source": [
    "## Predykcja linków\n",
    "\n",
    "Algorytmy do predykcji linków:\n",
    "\n",
    "https://dschult-networkx.readthedocs.io/en/latest/reference/algorithms/link_prediction.html\n",
    "\n",
    "### Przykłady:\n",
    "#### jaccard_coefficient\n",
    "#### resource_allocation_index"
   ]
  },
  {
   "cell_type": "code",
   "execution_count": null,
   "metadata": {},
   "outputs": [],
   "source": [
    "# Usuwamy wybrane krawędzie z grafu, żeby potem predykować ich istnienie\n",
    "\n",
    "import random\n",
    "\n",
    "def remove_edges_from_karate(Graph, edges_to_remove):\n",
    "    edges = Graph.edges()\n",
    "    for edge_to_rmv in edges_to_remove:\n",
    "        G.remove_edge(edge_to_rmv[0], edge_to_rmv[1])\n",
    "    return G, edges_to_remove\n",
    "    \n",
    "    \n",
    "G = nx.karate_club_graph()\n",
    "edges_to_remove = [(0,1), (0,19), (33,27), (15,32)]\n",
    "G_without_some_edges, removed_edges = remove_edges_from_karate(G,edges_to_remove)"
   ]
  },
  {
   "cell_type": "code",
   "execution_count": null,
   "metadata": {},
   "outputs": [],
   "source": [
    "# Graf po usunięciu krawędzi\n",
    "\n",
    "plt.figure(figsize=(30,20))\n",
    "nx.draw_spring(G_without_some_edges, with_labels=True, node_size=5000, font_size=32, seed=42)\n",
    "plt.show()"
   ]
  },
  {
   "cell_type": "code",
   "execution_count": null,
   "metadata": {},
   "outputs": [],
   "source": [
    "# TODO: Oblicz prawdopodobieństwo wystąpienia usuniętych krawędzi w oparciu o algorytmy dostępne w NetworkX\n",
    "# (np. jaccard_coefficient, resource_allocation_index, adamic_adar_index).\n",
    "# Wykorzystaj G_without_some_edges i removed_edges.\n",
    "\n",
    "# Przykład: jaccard_coefficient\n",
    "jaccard = nx.jaccard_coefficient(G_without_some_edges, removed_edges)\n",
    "print('Predykcja jaccard_coefficient:')\n",
    "print(list(jaccard))\n",
    "\n",
    "print('Predykcja resource_allocation_index:')\n",
    "# to implement\n",
    "\n",
    "print('Predykcja adamic_adar_index:')\n",
    "# to implement"
   ]
  },
  {
   "cell_type": "markdown",
   "metadata": {},
   "source": [
    "## Algorytm Page Rank \n",
    "Znajduje \"najważniejsze\" wierzchołki w grafie.\n",
    "Wierzchołek jest tym ważniejszy, im więcej krawędzi do niego dochodzi (w grafie skierowanym: incoming links).\n",
    "Pierwotnie służył do towrzenia listy rankingowej stron internetowych.\n",
    "\n",
    "https://networkx.github.io/documentation/stable/reference/algorithms/generated/networkx.algorithms.link_analysis.pagerank_alg.pagerank.html#networkx.algorithms.link_analysis.pagerank_alg.pagerank\n",
    "\n",
    "pr = nx.pagerank(graph) \n",
    "Returns a dictionary of graph's nodes with PageRank as value."
   ]
  },
  {
   "cell_type": "code",
   "execution_count": null,
   "metadata": {},
   "outputs": [],
   "source": [
    "# TODO: W oparciu o algorytm Page Rank znajdź najważniejsze wierzchołki (top 5) w grafie G.\n",
    "\n",
    "# to implement"
   ]
  }
 ],
 "metadata": {
  "kernelspec": {
   "display_name": "Python 3",
   "language": "python",
   "name": "python3"
  },
  "language_info": {
   "codemirror_mode": {
    "name": "ipython",
    "version": 3
   },
   "file_extension": ".py",
   "mimetype": "text/x-python",
   "name": "python",
   "nbconvert_exporter": "python",
   "pygments_lexer": "ipython3",
   "version": "3.6.4"
  }
 },
 "nbformat": 4,
 "nbformat_minor": 2
}
